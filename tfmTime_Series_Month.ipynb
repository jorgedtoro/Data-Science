{
 "cells": [
  {
   "cell_type": "markdown",
   "metadata": {},
   "source": [
    "# Machine Learning\n",
    "\n",
    "## Linear Regression models\n",
    "\n",
    "### Jorge de Toro, Juan A. Ortíz"
   ]
  },
  {
   "cell_type": "markdown",
   "metadata": {},
   "source": [
    "Una vez realizado el estudio por día, \n",
    "vemos que no es demasiado fiable debido a la variación que existe si cambia un día de sábado a domingo o lunes.\n",
    "Por lo tanto, vamos a realizar el estudio agrupando las ventas por mes y haciendo una previsión a mes vista.\n",
    "Asimismo, de cara al año 2020 vemos que debido a la pandemia las ventas se incrementan de manera considerable al no ser un año normal. Por lo que, vamos a sacar los datos de 2017, y tener como conjunto de datos de 2017 a 2019."
   ]
  },
  {
   "cell_type": "markdown",
   "metadata": {},
   "source": [
    "### Predicción series temporales by month"
   ]
  },
  {
   "cell_type": "markdown",
   "metadata": {},
   "source": [
    "#### Estacionalidad de la serie\n",
    "Aunque se observaba estacionalidad al ver la tabla por día, es díficil de ver en un gráfico. Lo agruparemos por meses para estudiarlo más a fondo.\n"
   ]
  },
  {
   "cell_type": "code",
   "execution_count": 3,
   "metadata": {},
   "outputs": [],
   "source": [
    "# Importamos todos los módulos necesarios\n",
    "\n",
    "import pandas as pd\n",
    "import numpy as np\n",
    "import matplotlib.pyplot as plt\n",
    "%matplotlib inline\n",
    "import seaborn as sbn\n",
    "\n",
    "#modelos Regresión Lineal y Random Forest\n",
    "from sklearn.linear_model import LinearRegression\n",
    "from sklearn.ensemble import RandomForestRegressor, RandomForestClassifier\n",
    "from sklearn.model_selection import train_test_split\n",
    "from statsmodels.tsa.stattools import adfuller\n",
    "\n",
    "#medidas de error\n",
    "from sklearn.metrics import mean_squared_error, confusion_matrix\n",
    "from math import sqrt"
   ]
  },
  {
   "cell_type": "code",
   "execution_count": 4,
   "metadata": {},
   "outputs": [],
   "source": [
    "df =pd.DataFrame()\n",
    "df = pd.read_csv('C:/Users/jorge/El Corte Inglés, S.A/Otb y el master - Documentos/VentaMes2017-2019.csv'\n",
    "                 ,';',index_col='Fecha Venta',parse_dates=True)"
   ]
  },
  {
   "cell_type": "code",
   "execution_count": 5,
   "metadata": {},
   "outputs": [
    {
     "name": "stdout",
     "output_type": "stream",
     "text": [
      "             Unidades Vendidas\n",
      "Fecha Venta                   \n",
      "2017-01-01               94158\n",
      "2017-02-01               30152\n",
      "2017-03-01               38901\n",
      "2017-04-01               58229\n",
      "2017-05-01               59880\n",
      "<class 'pandas.core.frame.DataFrame'>\n",
      "DatetimeIndex: 36 entries, 2017-01-01 to 2019-12-01\n",
      "Data columns (total 1 columns):\n",
      " #   Column             Non-Null Count  Dtype\n",
      "---  ------             --------------  -----\n",
      " 0   Unidades Vendidas  36 non-null     int64\n",
      "dtypes: int64(1)\n",
      "memory usage: 576.0 bytes\n"
     ]
    }
   ],
   "source": [
    "#Convertimos el índice en fecha\n",
    "df.index = pd.to_datetime(df.index)\n",
    "print(df.head())\n",
    "df.info()\n",
    "\n",
    "#df['Año'] = df.index.year\n",
    "#df['Mes'] = df.index.month\n",
    "#df['Dia'] = df.index.day_name()\n",
    "#df['Semana'] =df.index.week"
   ]
  },
  {
   "cell_type": "code",
   "execution_count": 6,
   "metadata": {
    "scrolled": false
   },
   "outputs": [
    {
     "data": {
      "text/plain": [
       "<AxesSubplot:xlabel='Fecha Venta'>"
      ]
     },
     "execution_count": 6,
     "metadata": {},
     "output_type": "execute_result"
    },
    {
     "data": {
      "image/png": "[encoded data removed]",
      "text/plain": [
       "<Figure size 864x576 with 1 Axes>"
      ]
     },
     "metadata": {},
     "output_type": "display_data"
    }
   ],
   "source": [
    "sbn.set(rc={'figure.figsize':(10, 5)})\n",
    "df['Unidades Vendidas'].plot(figsize=(12,8),kind='bar')\n",
    "#ax = df['Unidades Vendidas'].plot(marker='.', alpha=0.1, linestyle='None', figsize=(10,10), subplots=True)"
   ]
  },
  {
   "cell_type": "code",
   "execution_count": 7,
   "metadata": {},
   "outputs": [
    {
     "data": {
      "text/html": [
       "<div>\n",
       "<style scoped>\n",
       "    .dataframe tbody tr th:only-of-type {\n",
       "        vertical-align: middle;\n",
       "    }\n",
       "\n",
       "    .dataframe tbody tr th {\n",
       "        vertical-align: top;\n",
       "    }\n",
       "\n",
       "    .dataframe thead th {\n",
       "        text-align: right;\n",
       "    }\n",
       "</style>\n",
       "<table border=\"1\" class=\"dataframe\">\n",
       "  <thead>\n",
       "    <tr style=\"text-align: right;\">\n",
       "      <th></th>\n",
       "      <th>Unidades Vendidas</th>\n",
       "      <th>Sale_LastMonth</th>\n",
       "      <th>Sale_2Monthsback</th>\n",
       "      <th>Sale_3Monthsback</th>\n",
       "    </tr>\n",
       "    <tr>\n",
       "      <th>Fecha Venta</th>\n",
       "      <th></th>\n",
       "      <th></th>\n",
       "      <th></th>\n",
       "      <th></th>\n",
       "    </tr>\n",
       "  </thead>\n",
       "  <tbody>\n",
       "    <tr>\n",
       "      <th>2017-01-01</th>\n",
       "      <td>94158</td>\n",
       "      <td>NaN</td>\n",
       "      <td>NaN</td>\n",
       "      <td>NaN</td>\n",
       "    </tr>\n",
       "    <tr>\n",
       "      <th>2017-02-01</th>\n",
       "      <td>30152</td>\n",
       "      <td>94158.0</td>\n",
       "      <td>NaN</td>\n",
       "      <td>NaN</td>\n",
       "    </tr>\n",
       "    <tr>\n",
       "      <th>2017-03-01</th>\n",
       "      <td>38901</td>\n",
       "      <td>30152.0</td>\n",
       "      <td>94158.0</td>\n",
       "      <td>NaN</td>\n",
       "    </tr>\n",
       "    <tr>\n",
       "      <th>2017-04-01</th>\n",
       "      <td>58229</td>\n",
       "      <td>38901.0</td>\n",
       "      <td>30152.0</td>\n",
       "      <td>94158.0</td>\n",
       "    </tr>\n",
       "    <tr>\n",
       "      <th>2017-05-01</th>\n",
       "      <td>59880</td>\n",
       "      <td>58229.0</td>\n",
       "      <td>38901.0</td>\n",
       "      <td>30152.0</td>\n",
       "    </tr>\n",
       "    <tr>\n",
       "      <th>2017-06-01</th>\n",
       "      <td>57168</td>\n",
       "      <td>59880.0</td>\n",
       "      <td>58229.0</td>\n",
       "      <td>38901.0</td>\n",
       "    </tr>\n",
       "    <tr>\n",
       "      <th>2017-07-01</th>\n",
       "      <td>56861</td>\n",
       "      <td>57168.0</td>\n",
       "      <td>59880.0</td>\n",
       "      <td>58229.0</td>\n",
       "    </tr>\n",
       "    <tr>\n",
       "      <th>2017-08-01</th>\n",
       "      <td>66329</td>\n",
       "      <td>56861.0</td>\n",
       "      <td>57168.0</td>\n",
       "      <td>59880.0</td>\n",
       "    </tr>\n",
       "    <tr>\n",
       "      <th>2017-09-01</th>\n",
       "      <td>64198</td>\n",
       "      <td>66329.0</td>\n",
       "      <td>56861.0</td>\n",
       "      <td>57168.0</td>\n",
       "    </tr>\n",
       "    <tr>\n",
       "      <th>2017-10-01</th>\n",
       "      <td>45831</td>\n",
       "      <td>64198.0</td>\n",
       "      <td>66329.0</td>\n",
       "      <td>56861.0</td>\n",
       "    </tr>\n",
       "  </tbody>\n",
       "</table>\n",
       "</div>"
      ],
      "text/plain": [
       "             Unidades Vendidas  Sale_LastMonth  Sale_2Monthsback  \\\n",
       "Fecha Venta                                                        \n",
       "2017-01-01               94158             NaN               NaN   \n",
       "2017-02-01               30152         94158.0               NaN   \n",
       "2017-03-01               38901         30152.0           94158.0   \n",
       "2017-04-01               58229         38901.0           30152.0   \n",
       "2017-05-01               59880         58229.0           38901.0   \n",
       "2017-06-01               57168         59880.0           58229.0   \n",
       "2017-07-01               56861         57168.0           59880.0   \n",
       "2017-08-01               66329         56861.0           57168.0   \n",
       "2017-09-01               64198         66329.0           56861.0   \n",
       "2017-10-01               45831         64198.0           66329.0   \n",
       "\n",
       "             Sale_3Monthsback  \n",
       "Fecha Venta                    \n",
       "2017-01-01                NaN  \n",
       "2017-02-01                NaN  \n",
       "2017-03-01                NaN  \n",
       "2017-04-01            94158.0  \n",
       "2017-05-01            30152.0  \n",
       "2017-06-01            38901.0  \n",
       "2017-07-01            58229.0  \n",
       "2017-08-01            59880.0  \n",
       "2017-09-01            57168.0  \n",
       "2017-10-01            56861.0  "
      ]
     },
     "execution_count": 7,
     "metadata": {},
     "output_type": "execute_result"
    }
   ],
   "source": [
    "df['Sale_LastMonth'] = df['Unidades Vendidas'].shift(+1)\n",
    "df['Sale_2Monthsback'] = df['Unidades Vendidas'].shift(+2)\n",
    "df['Sale_3Monthsback'] = df['Unidades Vendidas'].shift(+3)\n",
    "df.head(10)"
   ]
  },
  {
   "cell_type": "code",
   "execution_count": 8,
   "metadata": {
    "scrolled": false
   },
   "outputs": [
    {
     "data": {
      "text/html": [
       "<div>\n",
       "<style scoped>\n",
       "    .dataframe tbody tr th:only-of-type {\n",
       "        vertical-align: middle;\n",
       "    }\n",
       "\n",
       "    .dataframe tbody tr th {\n",
       "        vertical-align: top;\n",
       "    }\n",
       "\n",
       "    .dataframe thead th {\n",
       "        text-align: right;\n",
       "    }\n",
       "</style>\n",
       "<table border=\"1\" class=\"dataframe\">\n",
       "  <thead>\n",
       "    <tr style=\"text-align: right;\">\n",
       "      <th></th>\n",
       "      <th>Unidades Vendidas</th>\n",
       "      <th>Sale_LastMonth</th>\n",
       "      <th>Sale_2Monthsback</th>\n",
       "      <th>Sale_3Monthsback</th>\n",
       "    </tr>\n",
       "    <tr>\n",
       "      <th>Fecha Venta</th>\n",
       "      <th></th>\n",
       "      <th></th>\n",
       "      <th></th>\n",
       "      <th></th>\n",
       "    </tr>\n",
       "  </thead>\n",
       "  <tbody>\n",
       "    <tr>\n",
       "      <th>2017-04-01</th>\n",
       "      <td>58229</td>\n",
       "      <td>38901.0</td>\n",
       "      <td>30152.0</td>\n",
       "      <td>94158.0</td>\n",
       "    </tr>\n",
       "    <tr>\n",
       "      <th>2017-05-01</th>\n",
       "      <td>59880</td>\n",
       "      <td>58229.0</td>\n",
       "      <td>38901.0</td>\n",
       "      <td>30152.0</td>\n",
       "    </tr>\n",
       "    <tr>\n",
       "      <th>2017-06-01</th>\n",
       "      <td>57168</td>\n",
       "      <td>59880.0</td>\n",
       "      <td>58229.0</td>\n",
       "      <td>38901.0</td>\n",
       "    </tr>\n",
       "    <tr>\n",
       "      <th>2017-07-01</th>\n",
       "      <td>56861</td>\n",
       "      <td>57168.0</td>\n",
       "      <td>59880.0</td>\n",
       "      <td>58229.0</td>\n",
       "    </tr>\n",
       "    <tr>\n",
       "      <th>2017-08-01</th>\n",
       "      <td>66329</td>\n",
       "      <td>56861.0</td>\n",
       "      <td>57168.0</td>\n",
       "      <td>59880.0</td>\n",
       "    </tr>\n",
       "    <tr>\n",
       "      <th>2017-09-01</th>\n",
       "      <td>64198</td>\n",
       "      <td>66329.0</td>\n",
       "      <td>56861.0</td>\n",
       "      <td>57168.0</td>\n",
       "    </tr>\n",
       "    <tr>\n",
       "      <th>2017-10-01</th>\n",
       "      <td>45831</td>\n",
       "      <td>64198.0</td>\n",
       "      <td>66329.0</td>\n",
       "      <td>56861.0</td>\n",
       "    </tr>\n",
       "    <tr>\n",
       "      <th>2017-11-01</th>\n",
       "      <td>114898</td>\n",
       "      <td>45831.0</td>\n",
       "      <td>64198.0</td>\n",
       "      <td>66329.0</td>\n",
       "    </tr>\n",
       "    <tr>\n",
       "      <th>2017-12-01</th>\n",
       "      <td>100580</td>\n",
       "      <td>114898.0</td>\n",
       "      <td>45831.0</td>\n",
       "      <td>64198.0</td>\n",
       "    </tr>\n",
       "    <tr>\n",
       "      <th>2018-01-01</th>\n",
       "      <td>80549</td>\n",
       "      <td>100580.0</td>\n",
       "      <td>114898.0</td>\n",
       "      <td>45831.0</td>\n",
       "    </tr>\n",
       "    <tr>\n",
       "      <th>2018-02-01</th>\n",
       "      <td>38136</td>\n",
       "      <td>80549.0</td>\n",
       "      <td>100580.0</td>\n",
       "      <td>114898.0</td>\n",
       "    </tr>\n",
       "    <tr>\n",
       "      <th>2018-03-01</th>\n",
       "      <td>36001</td>\n",
       "      <td>38136.0</td>\n",
       "      <td>80549.0</td>\n",
       "      <td>100580.0</td>\n",
       "    </tr>\n",
       "    <tr>\n",
       "      <th>2018-04-01</th>\n",
       "      <td>43879</td>\n",
       "      <td>36001.0</td>\n",
       "      <td>38136.0</td>\n",
       "      <td>80549.0</td>\n",
       "    </tr>\n",
       "    <tr>\n",
       "      <th>2018-05-01</th>\n",
       "      <td>46627</td>\n",
       "      <td>43879.0</td>\n",
       "      <td>36001.0</td>\n",
       "      <td>38136.0</td>\n",
       "    </tr>\n",
       "    <tr>\n",
       "      <th>2018-06-01</th>\n",
       "      <td>44648</td>\n",
       "      <td>46627.0</td>\n",
       "      <td>43879.0</td>\n",
       "      <td>36001.0</td>\n",
       "    </tr>\n",
       "    <tr>\n",
       "      <th>2018-07-01</th>\n",
       "      <td>46304</td>\n",
       "      <td>44648.0</td>\n",
       "      <td>46627.0</td>\n",
       "      <td>43879.0</td>\n",
       "    </tr>\n",
       "    <tr>\n",
       "      <th>2018-08-01</th>\n",
       "      <td>46556</td>\n",
       "      <td>46304.0</td>\n",
       "      <td>44648.0</td>\n",
       "      <td>46627.0</td>\n",
       "    </tr>\n",
       "    <tr>\n",
       "      <th>2018-09-01</th>\n",
       "      <td>61019</td>\n",
       "      <td>46556.0</td>\n",
       "      <td>46304.0</td>\n",
       "      <td>44648.0</td>\n",
       "    </tr>\n",
       "    <tr>\n",
       "      <th>2018-10-01</th>\n",
       "      <td>44042</td>\n",
       "      <td>61019.0</td>\n",
       "      <td>46556.0</td>\n",
       "      <td>46304.0</td>\n",
       "    </tr>\n",
       "    <tr>\n",
       "      <th>2018-11-01</th>\n",
       "      <td>89998</td>\n",
       "      <td>44042.0</td>\n",
       "      <td>61019.0</td>\n",
       "      <td>46556.0</td>\n",
       "    </tr>\n",
       "    <tr>\n",
       "      <th>2018-12-01</th>\n",
       "      <td>97409</td>\n",
       "      <td>89998.0</td>\n",
       "      <td>44042.0</td>\n",
       "      <td>61019.0</td>\n",
       "    </tr>\n",
       "    <tr>\n",
       "      <th>2019-01-01</th>\n",
       "      <td>89955</td>\n",
       "      <td>97409.0</td>\n",
       "      <td>89998.0</td>\n",
       "      <td>44042.0</td>\n",
       "    </tr>\n",
       "    <tr>\n",
       "      <th>2019-02-01</th>\n",
       "      <td>32295</td>\n",
       "      <td>89955.0</td>\n",
       "      <td>97409.0</td>\n",
       "      <td>89998.0</td>\n",
       "    </tr>\n",
       "    <tr>\n",
       "      <th>2019-03-01</th>\n",
       "      <td>37323</td>\n",
       "      <td>32295.0</td>\n",
       "      <td>89955.0</td>\n",
       "      <td>97409.0</td>\n",
       "    </tr>\n",
       "    <tr>\n",
       "      <th>2019-04-01</th>\n",
       "      <td>37094</td>\n",
       "      <td>37323.0</td>\n",
       "      <td>32295.0</td>\n",
       "      <td>89955.0</td>\n",
       "    </tr>\n",
       "    <tr>\n",
       "      <th>2019-05-01</th>\n",
       "      <td>46596</td>\n",
       "      <td>37094.0</td>\n",
       "      <td>37323.0</td>\n",
       "      <td>32295.0</td>\n",
       "    </tr>\n",
       "    <tr>\n",
       "      <th>2019-06-01</th>\n",
       "      <td>42994</td>\n",
       "      <td>46596.0</td>\n",
       "      <td>37094.0</td>\n",
       "      <td>37323.0</td>\n",
       "    </tr>\n",
       "    <tr>\n",
       "      <th>2019-07-01</th>\n",
       "      <td>44742</td>\n",
       "      <td>42994.0</td>\n",
       "      <td>46596.0</td>\n",
       "      <td>37094.0</td>\n",
       "    </tr>\n",
       "    <tr>\n",
       "      <th>2019-08-01</th>\n",
       "      <td>45341</td>\n",
       "      <td>44742.0</td>\n",
       "      <td>42994.0</td>\n",
       "      <td>46596.0</td>\n",
       "    </tr>\n",
       "    <tr>\n",
       "      <th>2019-09-01</th>\n",
       "      <td>58027</td>\n",
       "      <td>45341.0</td>\n",
       "      <td>44742.0</td>\n",
       "      <td>42994.0</td>\n",
       "    </tr>\n",
       "    <tr>\n",
       "      <th>2019-10-01</th>\n",
       "      <td>42642</td>\n",
       "      <td>58027.0</td>\n",
       "      <td>45341.0</td>\n",
       "      <td>44742.0</td>\n",
       "    </tr>\n",
       "    <tr>\n",
       "      <th>2019-11-01</th>\n",
       "      <td>88793</td>\n",
       "      <td>42642.0</td>\n",
       "      <td>58027.0</td>\n",
       "      <td>45341.0</td>\n",
       "    </tr>\n",
       "    <tr>\n",
       "      <th>2019-12-01</th>\n",
       "      <td>90449</td>\n",
       "      <td>88793.0</td>\n",
       "      <td>42642.0</td>\n",
       "      <td>58027.0</td>\n",
       "    </tr>\n",
       "  </tbody>\n",
       "</table>\n",
       "</div>"
      ],
      "text/plain": [
       "             Unidades Vendidas  Sale_LastMonth  Sale_2Monthsback  \\\n",
       "Fecha Venta                                                        \n",
       "2017-04-01               58229         38901.0           30152.0   \n",
       "2017-05-01               59880         58229.0           38901.0   \n",
       "2017-06-01               57168         59880.0           58229.0   \n",
       "2017-07-01               56861         57168.0           59880.0   \n",
       "2017-08-01               66329         56861.0           57168.0   \n",
       "2017-09-01               64198         66329.0           56861.0   \n",
       "2017-10-01               45831         64198.0           66329.0   \n",
       "2017-11-01              114898         45831.0           64198.0   \n",
       "2017-12-01              100580        114898.0           45831.0   \n",
       "2018-01-01               80549        100580.0          114898.0   \n",
       "2018-02-01               38136         80549.0          100580.0   \n",
       "2018-03-01               36001         38136.0           80549.0   \n",
       "2018-04-01               43879         36001.0           38136.0   \n",
       "2018-05-01               46627         43879.0           36001.0   \n",
       "2018-06-01               44648         46627.0           43879.0   \n",
       "2018-07-01               46304         44648.0           46627.0   \n",
       "2018-08-01               46556         46304.0           44648.0   \n",
       "2018-09-01               61019         46556.0           46304.0   \n",
       "2018-10-01               44042         61019.0           46556.0   \n",
       "2018-11-01               89998         44042.0           61019.0   \n",
       "2018-12-01               97409         89998.0           44042.0   \n",
       "2019-01-01               89955         97409.0           89998.0   \n",
       "2019-02-01               32295         89955.0           97409.0   \n",
       "2019-03-01               37323         32295.0           89955.0   \n",
       "2019-04-01               37094         37323.0           32295.0   \n",
       "2019-05-01               46596         37094.0           37323.0   \n",
       "2019-06-01               42994         46596.0           37094.0   \n",
       "2019-07-01               44742         42994.0           46596.0   \n",
       "2019-08-01               45341         44742.0           42994.0   \n",
       "2019-09-01               58027         45341.0           44742.0   \n",
       "2019-10-01               42642         58027.0           45341.0   \n",
       "2019-11-01               88793         42642.0           58027.0   \n",
       "2019-12-01               90449         88793.0           42642.0   \n",
       "\n",
       "             Sale_3Monthsback  \n",
       "Fecha Venta                    \n",
       "2017-04-01            94158.0  \n",
       "2017-05-01            30152.0  \n",
       "2017-06-01            38901.0  \n",
       "2017-07-01            58229.0  \n",
       "2017-08-01            59880.0  \n",
       "2017-09-01            57168.0  \n",
       "2017-10-01            56861.0  \n",
       "2017-11-01            66329.0  \n",
       "2017-12-01            64198.0  \n",
       "2018-01-01            45831.0  \n",
       "2018-02-01           114898.0  \n",
       "2018-03-01           100580.0  \n",
       "2018-04-01            80549.0  \n",
       "2018-05-01            38136.0  \n",
       "2018-06-01            36001.0  \n",
       "2018-07-01            43879.0  \n",
       "2018-08-01            46627.0  \n",
       "2018-09-01            44648.0  \n",
       "2018-10-01            46304.0  \n",
       "2018-11-01            46556.0  \n",
       "2018-12-01            61019.0  \n",
       "2019-01-01            44042.0  \n",
       "2019-02-01            89998.0  \n",
       "2019-03-01            97409.0  \n",
       "2019-04-01            89955.0  \n",
       "2019-05-01            32295.0  \n",
       "2019-06-01            37323.0  \n",
       "2019-07-01            37094.0  \n",
       "2019-08-01            46596.0  \n",
       "2019-09-01            42994.0  \n",
       "2019-10-01            44742.0  \n",
       "2019-11-01            45341.0  \n",
       "2019-12-01            58027.0  "
      ]
     },
     "execution_count": 8,
     "metadata": {},
     "output_type": "execute_result"
    }
   ],
   "source": [
    "df=df.dropna()\n",
    "df"
   ]
  },
  {
   "cell_type": "code",
   "execution_count": 9,
   "metadata": {},
   "outputs": [],
   "source": [
    "lin_model=LinearRegression()"
   ]
  },
  {
   "cell_type": "code",
   "execution_count": 10,
   "metadata": {},
   "outputs": [
    {
     "name": "stdout",
     "output_type": "stream",
     "text": [
      "[[ 38901.  30152.  94158.]\n",
      " [ 58229.  38901.  30152.]\n",
      " [ 59880.  58229.  38901.]\n",
      " [ 57168.  59880.  58229.]\n",
      " [ 56861.  57168.  59880.]\n",
      " [ 66329.  56861.  57168.]\n",
      " [ 64198.  66329.  56861.]\n",
      " [ 45831.  64198.  66329.]\n",
      " [114898.  45831.  64198.]\n",
      " [100580. 114898.  45831.]\n",
      " [ 80549. 100580. 114898.]\n",
      " [ 38136.  80549. 100580.]\n",
      " [ 36001.  38136.  80549.]\n",
      " [ 43879.  36001.  38136.]\n",
      " [ 46627.  43879.  36001.]\n",
      " [ 44648.  46627.  43879.]\n",
      " [ 46304.  44648.  46627.]\n",
      " [ 46556.  46304.  44648.]\n",
      " [ 61019.  46556.  46304.]\n",
      " [ 44042.  61019.  46556.]\n",
      " [ 89998.  44042.  61019.]\n",
      " [ 97409.  89998.  44042.]\n",
      " [ 89955.  97409.  89998.]\n",
      " [ 32295.  89955.  97409.]\n",
      " [ 37323.  32295.  89955.]\n",
      " [ 37094.  37323.  32295.]\n",
      " [ 46596.  37094.  37323.]\n",
      " [ 42994.  46596.  37094.]\n",
      " [ 44742.  42994.  46596.]\n",
      " [ 45341.  44742.  42994.]\n",
      " [ 58027.  45341.  44742.]\n",
      " [ 42642.  58027.  45341.]\n",
      " [ 88793.  42642.  58027.]]\n"
     ]
    }
   ],
   "source": [
    "x1,x2,x3,y=df['Sale_LastMonth'],df['Sale_2Monthsback'],df['Sale_3Monthsback'],df['Unidades Vendidas']\n",
    "x1,x2,x3,y=np.array(x1),np.array(x2),np.array(x3),np.array(y)\n",
    "x1,x2,x3,y=x1.reshape(-1,1),x2.reshape(-1,1),x3.reshape(-1,1),y.reshape(-1,1)\n",
    "final_x=np.concatenate((x1,x2,x3),axis=1)\n",
    "print(final_x)"
   ]
  },
  {
   "cell_type": "code",
   "execution_count": 11,
   "metadata": {},
   "outputs": [],
   "source": [
    "# separamos el conjunto en dos : parte de entrenamiento y parte test\n",
    "\n",
    "X_train,X_test,y_train,y_test=final_x[:-30],final_x[-30:],y[:-30],y[-30:]"
   ]
  },
  {
   "cell_type": "code",
   "execution_count": 12,
   "metadata": {},
   "outputs": [
    {
     "data": {
      "text/plain": [
       "LinearRegression()"
      ]
     },
     "execution_count": 12,
     "metadata": {},
     "output_type": "execute_result"
    }
   ],
   "source": [
    "# entrenamos el modelo\n",
    "lin_model.fit(X_train,y_train)"
   ]
  },
  {
   "cell_type": "code",
   "execution_count": 13,
   "metadata": {},
   "outputs": [
    {
     "data": {
      "image/png": "[encoded data removed]",
      "text/plain": [
       "<Figure size 792x432 with 1 Axes>"
      ]
     },
     "metadata": {},
     "output_type": "display_data"
    }
   ],
   "source": [
    "# una vez entrenado, predecimos la parte test\n",
    "lin_pred=lin_model.predict(X_test)\n",
    "\n",
    "sbn.set(rc={'figure.figsize':(11, 6)})\n",
    "#plt.rcParams[\"figure.figsize\"] = (11,6)\n",
    "plt.plot(lin_pred,label='Linear_Regression_Predictions')\n",
    "plt.plot(y_test,label='Actual Sales')\n",
    "plt.legend(loc=\"upper left\")\n",
    "plt.show()"
   ]
  },
  {
   "cell_type": "code",
   "execution_count": 14,
   "metadata": {},
   "outputs": [],
   "source": [
    "# utilizamos el error cuadrático medio como medida de error.\n",
    "rmse_lr=sqrt(mean_squared_error(lin_pred,y_test))"
   ]
  },
  {
   "cell_type": "code",
   "execution_count": 15,
   "metadata": {},
   "outputs": [
    {
     "name": "stdout",
     "output_type": "stream",
     "text": [
      "Mean Squared Error for Linear Regression Model is: 23325.026677851878\n"
     ]
    }
   ],
   "source": [
    "print('Mean Squared Error for Linear Regression Model is:',rmse_lr)"
   ]
  },
  {
   "cell_type": "markdown",
   "metadata": {},
   "source": [
    "## Random Forest"
   ]
  },
  {
   "cell_type": "markdown",
   "metadata": {},
   "source": [
    "Utilizamos el mismo conjunto de datos con las variaciones \n",
    "hechas para el modelo de regresión lineal"
   ]
  },
  {
   "cell_type": "code",
   "execution_count": 16,
   "metadata": {},
   "outputs": [],
   "source": [
    "model=RandomForestRegressor(n_estimators=100,max_features=3, random_state=1)"
   ]
  },
  {
   "cell_type": "code",
   "execution_count": 17,
   "metadata": {},
   "outputs": [
    {
     "name": "stderr",
     "output_type": "stream",
     "text": [
      "<ipython-input-17-b2c54ce69eeb>:1: DataConversionWarning: A column-vector y was passed when a 1d array was expected. Please change the shape of y to (n_samples,), for example using ravel().\n",
      "  model.fit(X_train,y_train)\n"
     ]
    },
    {
     "data": {
      "text/plain": [
       "-0.012033126853076892"
      ]
     },
     "execution_count": 17,
     "metadata": {},
     "output_type": "execute_result"
    }
   ],
   "source": [
    "model.fit(X_train,y_train)\n",
    "model.score(X_test, y_test)"
   ]
  },
  {
   "cell_type": "code",
   "execution_count": 18,
   "metadata": {},
   "outputs": [
    {
     "data": {
      "image/png": "[encoded data removed]",
      "text/plain": [
       "<Figure size 864x576 with 1 Axes>"
      ]
     },
     "metadata": {},
     "output_type": "display_data"
    }
   ],
   "source": [
    "pred=model.predict(X_test)\n",
    "\n",
    "plt.rcParams[\"figure.figsize\"] = (12,8)\n",
    "plt.plot(pred,label='Random_Forest_Predictions')\n",
    "plt.plot(y_test,label='Actual Sales')\n",
    "plt.legend(loc=\"upper left\")\n",
    "plt.show()"
   ]
  },
  {
   "cell_type": "code",
   "execution_count": 19,
   "metadata": {},
   "outputs": [
    {
     "name": "stdout",
     "output_type": "stream",
     "text": [
      "Mean Squared Error for Random Forest Model is: 22992.70805147\n"
     ]
    }
   ],
   "source": [
    "rmse_rf=sqrt(mean_squared_error(pred,y_test))\n",
    "print('Mean Squared Error for Random Forest Model is:',rmse_rf)"
   ]
  },
  {
   "cell_type": "markdown",
   "metadata": {},
   "source": [
    "# ARIMA"
   ]
  },
  {
   "cell_type": "code",
   "execution_count": 20,
   "metadata": {},
   "outputs": [],
   "source": [
    "# pip install pmdarima\n",
    "import pandas as pd\n",
    "import numpy as np\n",
    "import datetime\n",
    "\n",
    "import csv\n",
    "\n",
    "import matplotlib.pyplot as plt\n",
    "%matplotlib inline"
   ]
  },
  {
   "cell_type": "code",
   "execution_count": 21,
   "metadata": {},
   "outputs": [],
   "source": [
    "#dependencias para desarrollar ARIMA Forecasting Models\n",
    "\n",
    "from statsmodels.tsa.arima_model import ARIMA\n",
    "from statsmodels.graphics.tsaplots import plot_acf, plot_pacf\n",
    "from statsmodels.tsa.stattools import acf\n",
    "from statsmodels.tsa.api import acf, pacf, graphics\n",
    "from statsmodels.tsa.ar_model import AutoReg, ar_select_order\n",
    "from statsmodels.tsa.stattools import adfuller\n",
    "import pmdarima as pm\n",
    "import statsmodels.api as sm\n",
    "\n",
    "from pandas.plotting import autocorrelation_plot\n",
    "\n",
    "from sklearn.metrics import mean_squared_error"
   ]
  },
  {
   "cell_type": "code",
   "execution_count": 22,
   "metadata": {},
   "outputs": [
    {
     "name": "stdout",
     "output_type": "stream",
     "text": [
      "Shape of data (36, 1)\n",
      "Unidades Vendidas    int64\n",
      "dtype: object\n"
     ]
    },
    {
     "data": {
      "text/html": [
       "<div>\n",
       "<style scoped>\n",
       "    .dataframe tbody tr th:only-of-type {\n",
       "        vertical-align: middle;\n",
       "    }\n",
       "\n",
       "    .dataframe tbody tr th {\n",
       "        vertical-align: top;\n",
       "    }\n",
       "\n",
       "    .dataframe thead th {\n",
       "        text-align: right;\n",
       "    }\n",
       "</style>\n",
       "<table border=\"1\" class=\"dataframe\">\n",
       "  <thead>\n",
       "    <tr style=\"text-align: right;\">\n",
       "      <th></th>\n",
       "      <th>Unidades Vendidas</th>\n",
       "    </tr>\n",
       "    <tr>\n",
       "      <th>Fecha Venta</th>\n",
       "      <th></th>\n",
       "    </tr>\n",
       "  </thead>\n",
       "  <tbody>\n",
       "    <tr>\n",
       "      <th>2017-01-01</th>\n",
       "      <td>94158</td>\n",
       "    </tr>\n",
       "    <tr>\n",
       "      <th>2017-02-01</th>\n",
       "      <td>30152</td>\n",
       "    </tr>\n",
       "    <tr>\n",
       "      <th>2017-03-01</th>\n",
       "      <td>38901</td>\n",
       "    </tr>\n",
       "    <tr>\n",
       "      <th>2017-04-01</th>\n",
       "      <td>58229</td>\n",
       "    </tr>\n",
       "    <tr>\n",
       "      <th>2017-05-01</th>\n",
       "      <td>59880</td>\n",
       "    </tr>\n",
       "  </tbody>\n",
       "</table>\n",
       "</div>"
      ],
      "text/plain": [
       "             Unidades Vendidas\n",
       "Fecha Venta                   \n",
       "2017-01-01               94158\n",
       "2017-02-01               30152\n",
       "2017-03-01               38901\n",
       "2017-04-01               58229\n",
       "2017-05-01               59880"
      ]
     },
     "execution_count": 22,
     "metadata": {},
     "output_type": "execute_result"
    }
   ],
   "source": [
    "df = pd.read_csv('C:/Users/jorge/El Corte Inglés, S.A/Otb y el master - Documentos/VentaMes2017-2019.csv',';',parse_dates=True)\n",
    "\n",
    "df['Fecha Venta'] = pd.to_datetime(df['Fecha Venta'])\n",
    "df=df.dropna()\n",
    "\n",
    "#set date as index column. (required in time series)\n",
    "df = df.set_index('Fecha Venta')\n",
    "\n",
    "print('Shape of data',df.shape)\n",
    "print(df.dtypes)\n",
    "df.head()"
   ]
  },
  {
   "cell_type": "code",
   "execution_count": 23,
   "metadata": {},
   "outputs": [
    {
     "data": {
      "text/plain": [
       "<AxesSubplot:xlabel='Fecha Venta'>"
      ]
     },
     "execution_count": 23,
     "metadata": {},
     "output_type": "execute_result"
    },
    {
     "data": {
      "image/png": "[encoded data removed]",
      "text/plain": [
       "<Figure size 864x360 with 1 Axes>"
      ]
     },
     "metadata": {
      "needs_background": "light"
     },
     "output_type": "display_data"
    }
   ],
   "source": [
    "df['Unidades Vendidas'].plot(figsize=(12,5),kind='bar')"
   ]
  },
  {
   "cell_type": "markdown",
   "metadata": {},
   "source": [
    "#### Chequeamos la estacionalidad"
   ]
  },
  {
   "cell_type": "code",
   "execution_count": 24,
   "metadata": {},
   "outputs": [],
   "source": [
    "from statsmodels.tsa.stattools import adfuller\n",
    "\n",
    "def adf_test(dataset):\n",
    "  dftest = adfuller(dataset, autolag = 'AIC')\n",
    "  print(\"1. ADF Statistic : \",dftest[0])\n",
    "  print(\"2. P-Value : \", dftest[1])\n",
    "  print(\"3. Num Of Lags : \", dftest[2])\n",
    "  print(\"4. Num Of Observations Used For ADF Regression and Critical Values Calculation :\", dftest[3])\n",
    "  print(\"5. Critical Values :\")\n",
    "  for key, val in dftest[4].items():\n",
    "      print(\"\\t\",key, \": \", val)"
   ]
  },
  {
   "cell_type": "code",
   "execution_count": 25,
   "metadata": {},
   "outputs": [
    {
     "name": "stdout",
     "output_type": "stream",
     "text": [
      "1. ADF Statistic :  -4.871880118406994\n",
      "2. P-Value :  3.9546700444868696e-05\n",
      "3. Num Of Lags :  8\n",
      "4. Num Of Observations Used For ADF Regression and Critical Values Calculation : 27\n",
      "5. Critical Values :\n",
      "\t 1% :  -3.6996079738860943\n",
      "\t 5% :  -2.9764303469999494\n",
      "\t 10% :  -2.627601001371742\n"
     ]
    }
   ],
   "source": [
    "adf_test(df['Unidades Vendidas'])\n",
    "\n",
    "#p-value < 0.05 estacionaria\n",
    "#p-value > 0.05 no es estacionaria"
   ]
  },
  {
   "cell_type": "markdown",
   "metadata": {},
   "source": [
    "#### Resolvemos el orden de modelo ARIMA"
   ]
  },
  {
   "cell_type": "code",
   "execution_count": 26,
   "metadata": {},
   "outputs": [],
   "source": [
    "from pmdarima import auto_arima\n",
    "# Ignore harmless warnings\n",
    "import warnings\n",
    "warnings.filterwarnings(\"ignore\")"
   ]
  },
  {
   "cell_type": "code",
   "execution_count": 27,
   "metadata": {},
   "outputs": [
    {
     "data": {
      "text/html": [
       "<table class=\"simpletable\">\n",
       "<caption>SARIMAX Results</caption>\n",
       "<tr>\n",
       "  <th>Dep. Variable:</th>           <td>y</td>        <th>  No. Observations:  </th>    <td>36</td>   \n",
       "</tr>\n",
       "<tr>\n",
       "  <th>Model:</th>           <td>SARIMAX(1, 0, 0)</td> <th>  Log Likelihood     </th> <td>-408.960</td>\n",
       "</tr>\n",
       "<tr>\n",
       "  <th>Date:</th>            <td>Wed, 19 May 2021</td> <th>  AIC                </th>  <td>823.919</td>\n",
       "</tr>\n",
       "<tr>\n",
       "  <th>Time:</th>                <td>10:45:34</td>     <th>  BIC                </th>  <td>828.670</td>\n",
       "</tr>\n",
       "<tr>\n",
       "  <th>Sample:</th>                  <td>0</td>        <th>  HQIC               </th>  <td>825.577</td>\n",
       "</tr>\n",
       "<tr>\n",
       "  <th></th>                       <td> - 36</td>      <th>                     </th>     <td> </td>   \n",
       "</tr>\n",
       "<tr>\n",
       "  <th>Covariance Type:</th>        <td>opg</td>       <th>                     </th>     <td> </td>   \n",
       "</tr>\n",
       "</table>\n",
       "<table class=\"simpletable\">\n",
       "<tr>\n",
       "      <td></td>         <th>coef</th>     <th>std err</th>      <th>z</th>      <th>P>|z|</th>  <th>[0.025</th>    <th>0.975]</th>  \n",
       "</tr>\n",
       "<tr>\n",
       "  <th>intercept</th> <td> 3.578e+04</td> <td> 9946.053</td> <td>    3.597</td> <td> 0.000</td> <td> 1.63e+04</td> <td> 5.53e+04</td>\n",
       "</tr>\n",
       "<tr>\n",
       "  <th>ar.L1</th>     <td>    0.4042</td> <td>    0.146</td> <td>    2.777</td> <td> 0.005</td> <td>    0.119</td> <td>    0.689</td>\n",
       "</tr>\n",
       "<tr>\n",
       "  <th>sigma2</th>    <td>  4.11e+08</td> <td>    1.053</td> <td>  3.9e+08</td> <td> 0.000</td> <td> 4.11e+08</td> <td> 4.11e+08</td>\n",
       "</tr>\n",
       "</table>\n",
       "<table class=\"simpletable\">\n",
       "<tr>\n",
       "  <th>Ljung-Box (L1) (Q):</th>     <td>0.07</td> <th>  Jarque-Bera (JB):  </th> <td>3.77</td>\n",
       "</tr>\n",
       "<tr>\n",
       "  <th>Prob(Q):</th>                <td>0.79</td> <th>  Prob(JB):          </th> <td>0.15</td>\n",
       "</tr>\n",
       "<tr>\n",
       "  <th>Heteroskedasticity (H):</th> <td>0.59</td> <th>  Skew:              </th> <td>0.63</td>\n",
       "</tr>\n",
       "<tr>\n",
       "  <th>Prob(H) (two-sided):</th>    <td>0.38</td> <th>  Kurtosis:          </th> <td>3.97</td>\n",
       "</tr>\n",
       "</table><br/><br/>Warnings:<br/>[1] Covariance matrix calculated using the outer product of gradients (complex-step).<br/>[2] Covariance matrix is singular or near-singular, with condition number 4.46e+23. Standard errors may be unstable."
      ],
      "text/plain": [
       "<class 'statsmodels.iolib.summary.Summary'>\n",
       "\"\"\"\n",
       "                               SARIMAX Results                                \n",
       "==============================================================================\n",
       "Dep. Variable:                      y   No. Observations:                   36\n",
       "Model:               SARIMAX(1, 0, 0)   Log Likelihood                -408.960\n",
       "Date:                Wed, 19 May 2021   AIC                            823.919\n",
       "Time:                        10:45:34   BIC                            828.670\n",
       "Sample:                             0   HQIC                           825.577\n",
       "                                 - 36                                         \n",
       "Covariance Type:                  opg                                         \n",
       "==============================================================================\n",
       "                 coef    std err          z      P>|z|      [0.025      0.975]\n",
       "------------------------------------------------------------------------------\n",
       "intercept   3.578e+04   9946.053      3.597      0.000    1.63e+04    5.53e+04\n",
       "ar.L1          0.4042      0.146      2.777      0.005       0.119       0.689\n",
       "sigma2       4.11e+08      1.053    3.9e+08      0.000    4.11e+08    4.11e+08\n",
       "===================================================================================\n",
       "Ljung-Box (L1) (Q):                   0.07   Jarque-Bera (JB):                 3.77\n",
       "Prob(Q):                              0.79   Prob(JB):                         0.15\n",
       "Heteroskedasticity (H):               0.59   Skew:                             0.63\n",
       "Prob(H) (two-sided):                  0.38   Kurtosis:                         3.97\n",
       "===================================================================================\n",
       "\n",
       "Warnings:\n",
       "[1] Covariance matrix calculated using the outer product of gradients (complex-step).\n",
       "[2] Covariance matrix is singular or near-singular, with condition number 4.46e+23. Standard errors may be unstable.\n",
       "\"\"\""
      ]
     },
     "execution_count": 27,
     "metadata": {},
     "output_type": "execute_result"
    }
   ],
   "source": [
    "stepwise_fit = auto_arima(df['Unidades Vendidas'], \n",
    "                          suppress_warnings=True)           \n",
    "\n",
    "stepwise_fit.summary()"
   ]
  },
  {
   "cell_type": "markdown",
   "metadata": {},
   "source": [
    "#### Vemos que nuestro modelo tiene orden (1,0,0)"
   ]
  },
  {
   "cell_type": "code",
   "execution_count": 28,
   "metadata": {},
   "outputs": [],
   "source": [
    "from statsmodels.tsa.arima_model import ARIMA"
   ]
  },
  {
   "cell_type": "code",
   "execution_count": 29,
   "metadata": {},
   "outputs": [
    {
     "name": "stdout",
     "output_type": "stream",
     "text": [
      "(36, 1)\n",
      "(6, 1) (30, 1)\n",
      "Unidades Vendidas    56861\n",
      "Name: 2017-07-01 00:00:00, dtype: int64 Unidades Vendidas    90449\n",
      "Name: 2019-12-01 00:00:00, dtype: int64\n"
     ]
    }
   ],
   "source": [
    "print(df.shape)\n",
    "train=df.iloc[:-30]\n",
    "test=df.iloc[-30:]\n",
    "print(train.shape,test.shape)\n",
    "print(test.iloc[0],test.iloc[-1])"
   ]
  },
  {
   "cell_type": "markdown",
   "metadata": {},
   "source": [
    "## Entrenamos el modelo"
   ]
  },
  {
   "cell_type": "code",
   "execution_count": 30,
   "metadata": {},
   "outputs": [
    {
     "data": {
      "text/html": [
       "<table class=\"simpletable\">\n",
       "<caption>ARMA Model Results</caption>\n",
       "<tr>\n",
       "  <th>Dep. Variable:</th> <td>Unidades Vendidas</td> <th>  No. Observations:  </th>     <td>6</td>    \n",
       "</tr>\n",
       "<tr>\n",
       "  <th>Model:</th>            <td>ARMA(1, 0)</td>     <th>  Log Likelihood     </th>  <td>-67.628</td> \n",
       "</tr>\n",
       "<tr>\n",
       "  <th>Method:</th>             <td>css-mle</td>      <th>  S.D. of innovations</th> <td>18605.041</td>\n",
       "</tr>\n",
       "<tr>\n",
       "  <th>Date:</th>          <td>Wed, 19 May 2021</td>  <th>  AIC                </th>  <td>141.255</td> \n",
       "</tr>\n",
       "<tr>\n",
       "  <th>Time:</th>              <td>10:45:34</td>      <th>  BIC                </th>  <td>140.631</td> \n",
       "</tr>\n",
       "<tr>\n",
       "  <th>Sample:</th>           <td>01-01-2017</td>     <th>  HQIC               </th>  <td>138.755</td> \n",
       "</tr>\n",
       "<tr>\n",
       "  <th></th>                 <td>- 06-01-2017</td>    <th>                     </th>     <td> </td>    \n",
       "</tr>\n",
       "</table>\n",
       "<table class=\"simpletable\">\n",
       "<tr>\n",
       "             <td></td>                <th>coef</th>     <th>std err</th>      <th>z</th>      <th>P>|z|</th>  <th>[0.025</th>    <th>0.975]</th>  \n",
       "</tr>\n",
       "<tr>\n",
       "  <th>const</th>                   <td> 5.411e+04</td> <td> 5767.703</td> <td>    9.381</td> <td> 0.000</td> <td> 4.28e+04</td> <td> 6.54e+04</td>\n",
       "</tr>\n",
       "<tr>\n",
       "  <th>ar.L1.Unidades Vendidas</th> <td>   -0.4736</td> <td>    0.505</td> <td>   -0.937</td> <td> 0.349</td> <td>   -1.464</td> <td>    0.516</td>\n",
       "</tr>\n",
       "</table>\n",
       "<table class=\"simpletable\">\n",
       "<caption>Roots</caption>\n",
       "<tr>\n",
       "    <td></td>   <th>            Real</th>  <th>         Imaginary</th> <th>         Modulus</th>  <th>        Frequency</th>\n",
       "</tr>\n",
       "<tr>\n",
       "  <th>AR.1</th> <td>          -2.1117</td> <td>          +0.0000j</td> <td>           2.1117</td> <td>           0.5000</td>\n",
       "</tr>\n",
       "</table>"
      ],
      "text/plain": [
       "<class 'statsmodels.iolib.summary.Summary'>\n",
       "\"\"\"\n",
       "                              ARMA Model Results                              \n",
       "==============================================================================\n",
       "Dep. Variable:      Unidades Vendidas   No. Observations:                    6\n",
       "Model:                     ARMA(1, 0)   Log Likelihood                 -67.628\n",
       "Method:                       css-mle   S.D. of innovations          18605.041\n",
       "Date:                Wed, 19 May 2021   AIC                            141.255\n",
       "Time:                        10:45:34   BIC                            140.631\n",
       "Sample:                    01-01-2017   HQIC                           138.755\n",
       "                         - 06-01-2017                                         \n",
       "===========================================================================================\n",
       "                              coef    std err          z      P>|z|      [0.025      0.975]\n",
       "-------------------------------------------------------------------------------------------\n",
       "const                    5.411e+04   5767.703      9.381      0.000    4.28e+04    6.54e+04\n",
       "ar.L1.Unidades Vendidas    -0.4736      0.505     -0.937      0.349      -1.464       0.516\n",
       "                                    Roots                                    \n",
       "=============================================================================\n",
       "                  Real          Imaginary           Modulus         Frequency\n",
       "-----------------------------------------------------------------------------\n",
       "AR.1           -2.1117           +0.0000j            2.1117            0.5000\n",
       "-----------------------------------------------------------------------------\n",
       "\"\"\""
      ]
     },
     "execution_count": 30,
     "metadata": {},
     "output_type": "execute_result"
    }
   ],
   "source": [
    "from statsmodels.tsa.arima_model import ARIMA\n",
    "model=ARIMA(train['Unidades Vendidas'],order=(1,0,0))\n",
    "model=model.fit()\n",
    "model.summary()"
   ]
  },
  {
   "cell_type": "markdown",
   "metadata": {},
   "source": [
    "#### Hacemos las predicciones sobre el conjunto test"
   ]
  },
  {
   "cell_type": "code",
   "execution_count": 31,
   "metadata": {},
   "outputs": [
    {
     "data": {
      "text/plain": [
       "<AxesSubplot:xlabel='Fecha Venta'>"
      ]
     },
     "execution_count": 31,
     "metadata": {},
     "output_type": "execute_result"
    },
    {
     "data": {
      "image/png": "[encoded data removed]",
      "text/plain": [
       "<Figure size 432x288 with 1 Axes>"
      ]
     },
     "metadata": {
      "needs_background": "light"
     },
     "output_type": "display_data"
    }
   ],
   "source": [
    "start=len(train)\n",
    "end=len(train)+len(test)-1\n",
    "#index_future_dates=pd.date_range(start='2017-01-01',end='2019-12-01')\n",
    "pred=model.predict(start=start,end=end,typ='levels').rename('ARIMA predictions')\n",
    "#pred.index=index_future_dates\n",
    "pred.plot(legend=True)\n",
    "test['Unidades Vendidas'].plot(legend=True)"
   ]
  },
  {
   "cell_type": "code",
   "execution_count": 32,
   "metadata": {},
   "outputs": [
    {
     "data": {
      "text/plain": [
       "<AxesSubplot:xlabel='Fecha Venta'>"
      ]
     },
     "execution_count": 32,
     "metadata": {},
     "output_type": "execute_result"
    },
    {
     "data": {
      "image/png": "[encoded data removed]",
      "text/plain": [
       "<Figure size 432x288 with 1 Axes>"
      ]
     },
     "metadata": {
      "needs_background": "light"
     },
     "output_type": "display_data"
    }
   ],
   "source": [
    "pred.plot(legend='ARIMA Predictions')\n",
    "test['Unidades Vendidas'].plot(legend=True)"
   ]
  },
  {
   "cell_type": "code",
   "execution_count": 33,
   "metadata": {},
   "outputs": [
    {
     "data": {
      "text/plain": [
       "59337.2"
      ]
     },
     "execution_count": 33,
     "metadata": {},
     "output_type": "execute_result"
    }
   ],
   "source": [
    "test['Unidades Vendidas'].mean()"
   ]
  },
  {
   "cell_type": "code",
   "execution_count": 34,
   "metadata": {},
   "outputs": [
    {
     "name": "stdout",
     "output_type": "stream",
     "text": [
      "23453.291922637465\n"
     ]
    }
   ],
   "source": [
    "from sklearn.metrics import mean_squared_error\n",
    "from math import sqrt\n",
    "rmse=sqrt(mean_squared_error(pred,test['Unidades Vendidas']))\n",
    "print(rmse)"
   ]
  },
  {
   "cell_type": "code",
   "execution_count": 35,
   "metadata": {},
   "outputs": [
    {
     "data": {
      "text/html": [
       "<div>\n",
       "<style scoped>\n",
       "    .dataframe tbody tr th:only-of-type {\n",
       "        vertical-align: middle;\n",
       "    }\n",
       "\n",
       "    .dataframe tbody tr th {\n",
       "        vertical-align: top;\n",
       "    }\n",
       "\n",
       "    .dataframe thead th {\n",
       "        text-align: right;\n",
       "    }\n",
       "</style>\n",
       "<table border=\"1\" class=\"dataframe\">\n",
       "  <thead>\n",
       "    <tr style=\"text-align: right;\">\n",
       "      <th></th>\n",
       "      <th>Unidades Vendidas</th>\n",
       "    </tr>\n",
       "    <tr>\n",
       "      <th>Fecha Venta</th>\n",
       "      <th></th>\n",
       "    </tr>\n",
       "  </thead>\n",
       "  <tbody>\n",
       "    <tr>\n",
       "      <th>2019-08-01</th>\n",
       "      <td>45341</td>\n",
       "    </tr>\n",
       "    <tr>\n",
       "      <th>2019-09-01</th>\n",
       "      <td>58027</td>\n",
       "    </tr>\n",
       "    <tr>\n",
       "      <th>2019-10-01</th>\n",
       "      <td>42642</td>\n",
       "    </tr>\n",
       "    <tr>\n",
       "      <th>2019-11-01</th>\n",
       "      <td>88793</td>\n",
       "    </tr>\n",
       "    <tr>\n",
       "      <th>2019-12-01</th>\n",
       "      <td>90449</td>\n",
       "    </tr>\n",
       "  </tbody>\n",
       "</table>\n",
       "</div>"
      ],
      "text/plain": [
       "             Unidades Vendidas\n",
       "Fecha Venta                   \n",
       "2019-08-01               45341\n",
       "2019-09-01               58027\n",
       "2019-10-01               42642\n",
       "2019-11-01               88793\n",
       "2019-12-01               90449"
      ]
     },
     "execution_count": 35,
     "metadata": {},
     "output_type": "execute_result"
    }
   ],
   "source": [
    "model2=ARIMA(df['Unidades Vendidas'],order=(1,0,0))\n",
    "model2=model2.fit()\n",
    "df.tail()"
   ]
  },
  {
   "cell_type": "markdown",
   "metadata": {},
   "source": [
    "#### Para datos futuros"
   ]
  },
  {
   "cell_type": "code",
   "execution_count": 36,
   "metadata": {},
   "outputs": [
    {
     "name": "stdout",
     "output_type": "stream",
     "text": [
      "2019-01-01    72224.959199\n",
      "2019-01-02    64903.888031\n",
      "2019-01-03    61962.823334\n",
      "2019-01-04    60781.321153\n",
      "2019-01-05    60306.680998\n",
      "2019-01-06    60116.005703\n",
      "2019-01-07    60039.406477\n",
      "2019-01-08    60008.634576\n",
      "2019-01-09    59996.272704\n",
      "2019-01-10    59991.306618\n",
      "2019-01-11    59989.311612\n",
      "2019-01-12    59988.510166\n",
      "2019-01-13    59988.188204\n",
      "2019-01-14    59988.058864\n",
      "2019-01-15    59988.006905\n",
      "2019-01-16    59987.986031\n",
      "2019-01-17    59987.977646\n",
      "2019-01-18    59987.974277\n",
      "2019-01-19    59987.972924\n",
      "2019-01-20    59987.972380\n",
      "2019-01-21    59987.972162\n",
      "2019-01-22    59987.972074\n",
      "2019-01-23    59987.972039\n",
      "2019-01-24    59987.972025\n",
      "2019-01-25    59987.972019\n",
      "2019-01-26    59987.972017\n",
      "2019-01-27    59987.972016\n",
      "2019-01-28    59987.972016\n",
      "2019-01-29    59987.972015\n",
      "2019-01-30    59987.972015\n",
      "2019-01-31    59987.972015\n",
      "Freq: D, Name: ARIMA Predictions, dtype: float64\n"
     ]
    }
   ],
   "source": [
    "index_future_dates=pd.date_range(start='2019-01-01',end='2019-01-31')\n",
    "#print(index_future_dates)\n",
    "pred=model2.predict(start=len(df),end=len(df)+30,typ='levels').rename('ARIMA Predictions')\n",
    "#print(comp_pred)\n",
    "pred.index=index_future_dates\n",
    "print(pred)"
   ]
  },
  {
   "cell_type": "code",
   "execution_count": 37,
   "metadata": {},
   "outputs": [
    {
     "data": {
      "text/plain": [
       "<AxesSubplot:>"
      ]
     },
     "execution_count": 37,
     "metadata": {},
     "output_type": "execute_result"
    },
    {
     "data": {
      "image/png": "[encoded data removed]",
      "text/plain": [
       "<Figure size 864x360 with 1 Axes>"
      ]
     },
     "metadata": {
      "needs_background": "light"
     },
     "output_type": "display_data"
    }
   ],
   "source": [
    "pred.plot(figsize=(12,5),legend=True)"
   ]
  },
  {
   "cell_type": "markdown",
   "metadata": {},
   "source": [
    "# Prophet"
   ]
  },
  {
   "cell_type": "code",
   "execution_count": 1,
   "metadata": {},
   "outputs": [
    {
     "ename": "ModuleNotFoundError",
     "evalue": "No module named 'prophet'",
     "output_type": "error",
     "traceback": [
      "\u001b[1;31m---------------------------------------------------------------------------\u001b[0m",
      "\u001b[1;31mModuleNotFoundError\u001b[0m                       Traceback (most recent call last)",
      "\u001b[1;32m<ipython-input-1-5c9bd7483ced>\u001b[0m in \u001b[0;36m<module>\u001b[1;34m\u001b[0m\n\u001b[1;32m----> 1\u001b[1;33m \u001b[1;32mimport\u001b[0m \u001b[0mprophet\u001b[0m\u001b[1;33m\u001b[0m\u001b[1;33m\u001b[0m\u001b[0m\n\u001b[0m\u001b[0;32m      2\u001b[0m \u001b[0mprint\u001b[0m\u001b[1;33m(\u001b[0m\u001b[1;34m'Prophet %s'\u001b[0m \u001b[1;33m%\u001b[0m \u001b[0mfbprophet\u001b[0m\u001b[1;33m.\u001b[0m\u001b[0m__version__\u001b[0m\u001b[1;33m)\u001b[0m\u001b[1;33m\u001b[0m\u001b[1;33m\u001b[0m\u001b[0m\n",
      "\u001b[1;31mModuleNotFoundError\u001b[0m: No module named 'prophet'"
     ]
    }
   ],
   "source": [
    "#pip install pystan == 2.19.1.1\n",
    "#pip install fbprophet\n",
    "import fbprophet\n",
    "print('Prophet %s' % fbprophet.__version__)"
   ]
  },
  {
   "cell_type": "markdown",
   "metadata": {},
   "source": [
    "# XgBoost"
   ]
  },
  {
   "cell_type": "markdown",
   "metadata": {},
   "source": [
    "¿Cuándo se debe usar XGBoost?\n",
    "\n",
    "1.Para datasets grandes (más de 1000 observaciones, esto se debe a que el boosting mejora con iteraciones) y que el número de variables sea menor que el número de observaciones.\n",
    "\n",
    "2.Para problemas con una mezcla de variables categóricas y numéricas, o sólo numéricas (al contrario que la regresión lineal, el KNN o el K-Means, este algoritmo sí que acepta variables categóricas tal cual están).\n",
    "\n",
    "Nuestro dataset no es muy grande."
   ]
  },
  {
   "cell_type": "code",
   "execution_count": 1,
   "metadata": {},
   "outputs": [],
   "source": [
    "import xgboost as xgb\n",
    "import pandas as pd\n",
    "import numpy as np\n",
    "\n",
    "from sklearn.metrics import mean_squared_error\n",
    "from sklearn.model_selection import train_test_split\n"
   ]
  },
  {
   "cell_type": "code",
   "execution_count": 2,
   "metadata": {},
   "outputs": [
    {
     "name": "stdout",
     "output_type": "stream",
     "text": [
      "Shape of data (36, 1)\n",
      "Unidades Vendidas    int64\n",
      "dtype: object\n"
     ]
    },
    {
     "data": {
      "text/html": [
       "<div>\n",
       "<style scoped>\n",
       "    .dataframe tbody tr th:only-of-type {\n",
       "        vertical-align: middle;\n",
       "    }\n",
       "\n",
       "    .dataframe tbody tr th {\n",
       "        vertical-align: top;\n",
       "    }\n",
       "\n",
       "    .dataframe thead th {\n",
       "        text-align: right;\n",
       "    }\n",
       "</style>\n",
       "<table border=\"1\" class=\"dataframe\">\n",
       "  <thead>\n",
       "    <tr style=\"text-align: right;\">\n",
       "      <th></th>\n",
       "      <th>Unidades Vendidas</th>\n",
       "    </tr>\n",
       "    <tr>\n",
       "      <th>Fecha Venta</th>\n",
       "      <th></th>\n",
       "    </tr>\n",
       "  </thead>\n",
       "  <tbody>\n",
       "    <tr>\n",
       "      <th>2017-01-01</th>\n",
       "      <td>94158</td>\n",
       "    </tr>\n",
       "    <tr>\n",
       "      <th>2017-02-01</th>\n",
       "      <td>30152</td>\n",
       "    </tr>\n",
       "    <tr>\n",
       "      <th>2017-03-01</th>\n",
       "      <td>38901</td>\n",
       "    </tr>\n",
       "    <tr>\n",
       "      <th>2017-04-01</th>\n",
       "      <td>58229</td>\n",
       "    </tr>\n",
       "    <tr>\n",
       "      <th>2017-05-01</th>\n",
       "      <td>59880</td>\n",
       "    </tr>\n",
       "  </tbody>\n",
       "</table>\n",
       "</div>"
      ],
      "text/plain": [
       "             Unidades Vendidas\n",
       "Fecha Venta                   \n",
       "2017-01-01               94158\n",
       "2017-02-01               30152\n",
       "2017-03-01               38901\n",
       "2017-04-01               58229\n",
       "2017-05-01               59880"
      ]
     },
     "execution_count": 2,
     "metadata": {},
     "output_type": "execute_result"
    }
   ],
   "source": [
    "df = pd.read_csv('C:/Users/jorge/El Corte Inglés, S.A/Otb y el master - Documentos/VentaMes2017-2019.csv',';',parse_dates=True)\n",
    "\n",
    "df['Fecha Venta'] = pd.to_datetime(df['Fecha Venta'])\n",
    "df=df.dropna()\n",
    "\n",
    "#set date as index column. (required in time series)\n",
    "df = df.set_index('Fecha Venta')\n",
    "\n",
    "print('Shape of data',df.shape)\n",
    "print(df.dtypes)\n",
    "df.head()"
   ]
  },
  {
   "cell_type": "code",
   "execution_count": 10,
   "metadata": {},
   "outputs": [
    {
     "data": {
      "text/html": [
       "<div>\n",
       "<style scoped>\n",
       "    .dataframe tbody tr th:only-of-type {\n",
       "        vertical-align: middle;\n",
       "    }\n",
       "\n",
       "    .dataframe tbody tr th {\n",
       "        vertical-align: top;\n",
       "    }\n",
       "\n",
       "    .dataframe thead th {\n",
       "        text-align: right;\n",
       "    }\n",
       "</style>\n",
       "<table border=\"1\" class=\"dataframe\">\n",
       "  <thead>\n",
       "    <tr style=\"text-align: right;\">\n",
       "      <th></th>\n",
       "      <th>Unidades Vendidas</th>\n",
       "      <th>Sale_LastMonth</th>\n",
       "      <th>Sale_2Monthsback</th>\n",
       "      <th>Sale_3Monthsback</th>\n",
       "    </tr>\n",
       "    <tr>\n",
       "      <th>Fecha Venta</th>\n",
       "      <th></th>\n",
       "      <th></th>\n",
       "      <th></th>\n",
       "      <th></th>\n",
       "    </tr>\n",
       "  </thead>\n",
       "  <tbody>\n",
       "    <tr>\n",
       "      <th>2017-07-01</th>\n",
       "      <td>56861</td>\n",
       "      <td>57168.0</td>\n",
       "      <td>59880.0</td>\n",
       "      <td>58229.0</td>\n",
       "    </tr>\n",
       "    <tr>\n",
       "      <th>2017-08-01</th>\n",
       "      <td>66329</td>\n",
       "      <td>56861.0</td>\n",
       "      <td>57168.0</td>\n",
       "      <td>59880.0</td>\n",
       "    </tr>\n",
       "    <tr>\n",
       "      <th>2017-09-01</th>\n",
       "      <td>64198</td>\n",
       "      <td>66329.0</td>\n",
       "      <td>56861.0</td>\n",
       "      <td>57168.0</td>\n",
       "    </tr>\n",
       "    <tr>\n",
       "      <th>2017-10-01</th>\n",
       "      <td>45831</td>\n",
       "      <td>64198.0</td>\n",
       "      <td>66329.0</td>\n",
       "      <td>56861.0</td>\n",
       "    </tr>\n",
       "    <tr>\n",
       "      <th>2017-11-01</th>\n",
       "      <td>114898</td>\n",
       "      <td>45831.0</td>\n",
       "      <td>64198.0</td>\n",
       "      <td>66329.0</td>\n",
       "    </tr>\n",
       "    <tr>\n",
       "      <th>2017-12-01</th>\n",
       "      <td>100580</td>\n",
       "      <td>114898.0</td>\n",
       "      <td>45831.0</td>\n",
       "      <td>64198.0</td>\n",
       "    </tr>\n",
       "    <tr>\n",
       "      <th>2018-01-01</th>\n",
       "      <td>80549</td>\n",
       "      <td>100580.0</td>\n",
       "      <td>114898.0</td>\n",
       "      <td>45831.0</td>\n",
       "    </tr>\n",
       "    <tr>\n",
       "      <th>2018-02-01</th>\n",
       "      <td>38136</td>\n",
       "      <td>80549.0</td>\n",
       "      <td>100580.0</td>\n",
       "      <td>114898.0</td>\n",
       "    </tr>\n",
       "    <tr>\n",
       "      <th>2018-03-01</th>\n",
       "      <td>36001</td>\n",
       "      <td>38136.0</td>\n",
       "      <td>80549.0</td>\n",
       "      <td>100580.0</td>\n",
       "    </tr>\n",
       "    <tr>\n",
       "      <th>2018-04-01</th>\n",
       "      <td>43879</td>\n",
       "      <td>36001.0</td>\n",
       "      <td>38136.0</td>\n",
       "      <td>80549.0</td>\n",
       "    </tr>\n",
       "  </tbody>\n",
       "</table>\n",
       "</div>"
      ],
      "text/plain": [
       "             Unidades Vendidas  Sale_LastMonth  Sale_2Monthsback  \\\n",
       "Fecha Venta                                                        \n",
       "2017-07-01               56861         57168.0           59880.0   \n",
       "2017-08-01               66329         56861.0           57168.0   \n",
       "2017-09-01               64198         66329.0           56861.0   \n",
       "2017-10-01               45831         64198.0           66329.0   \n",
       "2017-11-01              114898         45831.0           64198.0   \n",
       "2017-12-01              100580        114898.0           45831.0   \n",
       "2018-01-01               80549        100580.0          114898.0   \n",
       "2018-02-01               38136         80549.0          100580.0   \n",
       "2018-03-01               36001         38136.0           80549.0   \n",
       "2018-04-01               43879         36001.0           38136.0   \n",
       "\n",
       "             Sale_3Monthsback  \n",
       "Fecha Venta                    \n",
       "2017-07-01            58229.0  \n",
       "2017-08-01            59880.0  \n",
       "2017-09-01            57168.0  \n",
       "2017-10-01            56861.0  \n",
       "2017-11-01            66329.0  \n",
       "2017-12-01            64198.0  \n",
       "2018-01-01            45831.0  \n",
       "2018-02-01           114898.0  \n",
       "2018-03-01           100580.0  \n",
       "2018-04-01            80549.0  "
      ]
     },
     "execution_count": 10,
     "metadata": {},
     "output_type": "execute_result"
    }
   ],
   "source": [
    "df['Sale_LastMonth'] = df['Unidades Vendidas'].shift(+1)\n",
    "df['Sale_2Monthsback'] = df['Unidades Vendidas'].shift(+2)\n",
    "df['Sale_3Monthsback'] = df['Unidades Vendidas'].shift(+3)\n",
    "\n",
    "df=df.dropna()\n",
    "df.head(10)"
   ]
  },
  {
   "cell_type": "code",
   "execution_count": 13,
   "metadata": {},
   "outputs": [
    {
     "name": "stdout",
     "output_type": "stream",
     "text": [
      "[[ 57168.  59880.  58229.]\n",
      " [ 56861.  57168.  59880.]\n",
      " [ 66329.  56861.  57168.]\n",
      " [ 64198.  66329.  56861.]\n",
      " [ 45831.  64198.  66329.]\n",
      " [114898.  45831.  64198.]\n",
      " [100580. 114898.  45831.]\n",
      " [ 80549. 100580. 114898.]\n",
      " [ 38136.  80549. 100580.]\n",
      " [ 36001.  38136.  80549.]\n",
      " [ 43879.  36001.  38136.]\n",
      " [ 46627.  43879.  36001.]\n",
      " [ 44648.  46627.  43879.]\n",
      " [ 46304.  44648.  46627.]\n",
      " [ 46556.  46304.  44648.]\n",
      " [ 61019.  46556.  46304.]\n",
      " [ 44042.  61019.  46556.]\n",
      " [ 89998.  44042.  61019.]\n",
      " [ 97409.  89998.  44042.]\n",
      " [ 89955.  97409.  89998.]\n",
      " [ 32295.  89955.  97409.]\n",
      " [ 37323.  32295.  89955.]\n",
      " [ 37094.  37323.  32295.]\n",
      " [ 46596.  37094.  37323.]\n",
      " [ 42994.  46596.  37094.]\n",
      " [ 44742.  42994.  46596.]\n",
      " [ 45341.  44742.  42994.]\n",
      " [ 58027.  45341.  44742.]\n",
      " [ 42642.  58027.  45341.]\n",
      " [ 88793.  42642.  58027.]]\n"
     ]
    }
   ],
   "source": [
    "x1,x2,x3,y=df['Sale_LastMonth'],df['Sale_2Monthsback'],df['Sale_3Monthsback'],df['Unidades Vendidas']\n",
    "x1,x2,x3,y=np.array(x1),np.array(x2),np.array(x3),np.array(y)\n",
    "x1,x2,x3,y=x1.reshape(-1,1),x2.reshape(-1,1),x3.reshape(-1,1),y.reshape(-1,1)\n",
    "final_x=np.concatenate((x1,x2,x3),axis=1)\n",
    "print(final_x)\n",
    "\n"
   ]
  },
  {
   "cell_type": "code",
   "execution_count": 20,
   "metadata": {},
   "outputs": [],
   "source": [
    "# Separamos los datos en variables y target\n",
    "\n",
    "X,y = df.iloc[:, :-1], df.iloc[:,-1]\n",
    "X_train, X_test, y_train, y_test = train_test_split(X, y, test_size = 0.2,\n",
    "                                                    random_state=123)"
   ]
  },
  {
   "cell_type": "code",
   "execution_count": 21,
   "metadata": {},
   "outputs": [],
   "source": [
    "xg_reg = xgb.XGBRegressor(objective ='reg:linear', colsample_bytree = 0.3, learning_rate = 0.1,\n",
    "                max_depth = 5, alpha = 10, n_estimators = 10)"
   ]
  },
  {
   "cell_type": "code",
   "execution_count": 22,
   "metadata": {},
   "outputs": [
    {
     "name": "stdout",
     "output_type": "stream",
     "text": [
      "[17:18:56] WARNING: c:\\ci\\xgboost-split_1619728435298\\work\\src\\objective\\regression_obj.cu:170: reg:linear is now deprecated in favor of reg:squarederror.\n"
     ]
    }
   ],
   "source": [
    "# Entrenamos el modelo\n",
    "\n",
    "xg_reg.fit(X_train,y_train)\n",
    "\n",
    "preds = xg_reg.predict(X_test)"
   ]
  },
  {
   "cell_type": "code",
   "execution_count": 26,
   "metadata": {},
   "outputs": [
    {
     "name": "stdout",
     "output_type": "stream",
     "text": [
      "Accuracy de XGBoost:  0.0\n",
      "Accuracy de Regresion Lineal:  -1.4217117966947872\n"
     ]
    }
   ],
   "source": [
    "# vemos el acierto del modelo\n",
    "\n",
    "accuracy_xgb = float(np.sum(preds == y_test))/y_test.shape[0]\n",
    "print('Accuracy de XGBoost: ', accuracy_xgb)\n",
    "accuracy_lr = xg_reg.score(X_test, y_test)\n",
    "print('Accuracy de Regresion Lineal: ', accuracy_lr)"
   ]
  },
  {
   "cell_type": "code",
   "execution_count": 23,
   "metadata": {},
   "outputs": [
    {
     "name": "stdout",
     "output_type": "stream",
     "text": [
      "RMSE: 42572.127682\n"
     ]
    }
   ],
   "source": [
    "# Medida de error\n",
    "rmse = np.sqrt(mean_squared_error(y_test, preds))\n",
    "print(\"RMSE: %f\" % (rmse))"
   ]
  }
 ],
 "metadata": {
  "kernelspec": {
   "display_name": "Python 3",
   "language": "python",
   "name": "python3"
  },
  "language_info": {
   "codemirror_mode": {
    "name": "ipython",
    "version": 3
   },
   "file_extension": ".py",
   "mimetype": "text/x-python",
   "name": "python",
   "nbconvert_exporter": "python",
   "pygments_lexer": "ipython3",
   "version": "3.7.6"
  }
 },
 "nbformat": 4,
 "nbformat_minor": 4
}
